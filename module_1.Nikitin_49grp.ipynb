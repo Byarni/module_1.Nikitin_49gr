{
 "cells": [
  {
   "cell_type": "code",
   "execution_count": 9,
   "metadata": {
    "_cell_guid": "b1076dfc-b9ad-4769-8c92-a6c4dae69d19",
    "_uuid": "8f2839f25d086af736a60e9eeb907d3b93b6e0e5",
    "colab": {},
    "colab_type": "code",
    "id": "U2D2gTdJVp90"
   },
   "outputs": [],
   "source": [
    "import numpy as np\n",
    "import pandas as pd\n",
    "import seaborn as sns\n",
    "import matplotlib.pyplot as plt\n",
    "from collections import Counter\n",
    "import itertools as it\n",
    "\n"
   ]
  },
  {
   "cell_type": "code",
   "execution_count": 3,
   "metadata": {
    "_cell_guid": "79c7e3d0-c299-4dcb-8224-4455121ee9b0",
    "_uuid": "d629ff2d2480ee46fbb7e2d37f6b5fab8052498a",
    "colab": {},
    "colab_type": "code",
    "id": "oyGfxL3eVp9-"
   },
   "outputs": [
    {
     "data": {
      "text/html": [
       "<div>\n",
       "<style scoped>\n",
       "    .dataframe tbody tr th:only-of-type {\n",
       "        vertical-align: middle;\n",
       "    }\n",
       "\n",
       "    .dataframe tbody tr th {\n",
       "        vertical-align: top;\n",
       "    }\n",
       "\n",
       "    .dataframe thead th {\n",
       "        text-align: right;\n",
       "    }\n",
       "</style>\n",
       "<table border=\"1\" class=\"dataframe\">\n",
       "  <thead>\n",
       "    <tr style=\"text-align: right;\">\n",
       "      <th></th>\n",
       "      <th>imdb_id</th>\n",
       "      <th>budget</th>\n",
       "      <th>revenue</th>\n",
       "      <th>original_title</th>\n",
       "      <th>cast</th>\n",
       "      <th>director</th>\n",
       "      <th>tagline</th>\n",
       "      <th>overview</th>\n",
       "      <th>runtime</th>\n",
       "      <th>genres</th>\n",
       "      <th>production_companies</th>\n",
       "      <th>release_date</th>\n",
       "      <th>vote_average</th>\n",
       "      <th>release_year</th>\n",
       "    </tr>\n",
       "  </thead>\n",
       "  <tbody>\n",
       "    <tr>\n",
       "      <th>1377</th>\n",
       "      <td>tt0376105</td>\n",
       "      <td>30000000</td>\n",
       "      <td>93772522</td>\n",
       "      <td>Racing Stripes</td>\n",
       "      <td>Frankie Muniz|Mandy Moore|Hayden Panettiere|Br...</td>\n",
       "      <td>Frederik Du Chau</td>\n",
       "      <td>Cheer 'til you're horse!</td>\n",
       "      <td>Shattered illusions are hard to repair -- espe...</td>\n",
       "      <td>102</td>\n",
       "      <td>Comedy</td>\n",
       "      <td>Alcon Entertainment</td>\n",
       "      <td>1/6/2005</td>\n",
       "      <td>5.1</td>\n",
       "      <td>2005</td>\n",
       "    </tr>\n",
       "    <tr>\n",
       "      <th>1608</th>\n",
       "      <td>tt0330793</td>\n",
       "      <td>33000000</td>\n",
       "      <td>54700105</td>\n",
       "      <td>The Punisher</td>\n",
       "      <td>Thomas Jane|John Travolta|Will Patton|Roy Sche...</td>\n",
       "      <td>Jonathan Hensleigh</td>\n",
       "      <td>There is no justice, there is only revenge.</td>\n",
       "      <td>When undercover FBI agent Frank Castle's wife ...</td>\n",
       "      <td>124</td>\n",
       "      <td>Action|Crime|Drama</td>\n",
       "      <td>Lions Gate Films|VIP 3 Medienfonds|Valhalla Mo...</td>\n",
       "      <td>4/15/2004</td>\n",
       "      <td>6.0</td>\n",
       "      <td>2004</td>\n",
       "    </tr>\n",
       "    <tr>\n",
       "      <th>995</th>\n",
       "      <td>tt1397280</td>\n",
       "      <td>45000000</td>\n",
       "      <td>376141306</td>\n",
       "      <td>Taken 2</td>\n",
       "      <td>Liam Neeson|Maggie Grace|Famke Janssen|Rade Se...</td>\n",
       "      <td>Olivier Megaton</td>\n",
       "      <td>First they took his daughter. Now they're comi...</td>\n",
       "      <td>In Istanbul, retired CIA operative Bryan Mills...</td>\n",
       "      <td>91</td>\n",
       "      <td>Action|Thriller|Crime|Drama</td>\n",
       "      <td>Twentieth Century Fox Film Corporation|M6 Film...</td>\n",
       "      <td>9/27/2012</td>\n",
       "      <td>6.0</td>\n",
       "      <td>2012</td>\n",
       "    </tr>\n",
       "    <tr>\n",
       "      <th>1427</th>\n",
       "      <td>tt0294870</td>\n",
       "      <td>40000000</td>\n",
       "      <td>31670620</td>\n",
       "      <td>Rent</td>\n",
       "      <td>Anthony Rapp|Adam Pascal|Rosario Dawson|Jesse ...</td>\n",
       "      <td>Chris Columbus</td>\n",
       "      <td>No day but today.</td>\n",
       "      <td>This rock opera tells the story of one year in...</td>\n",
       "      <td>135</td>\n",
       "      <td>Comedy|Drama|Music|Romance</td>\n",
       "      <td>Columbia Pictures|1492 Pictures|Revolution Stu...</td>\n",
       "      <td>11/23/2005</td>\n",
       "      <td>6.5</td>\n",
       "      <td>2005</td>\n",
       "    </tr>\n",
       "    <tr>\n",
       "      <th>1727</th>\n",
       "      <td>tt0465602</td>\n",
       "      <td>39000000</td>\n",
       "      <td>26820641</td>\n",
       "      <td>Shoot 'Em Up</td>\n",
       "      <td>Clive Owen|Monica Bellucci|Paul Giamatti|Steph...</td>\n",
       "      <td>Michael Davis</td>\n",
       "      <td>Just another family man making a living.</td>\n",
       "      <td>A man named Mr. Smith delivers a woman's baby ...</td>\n",
       "      <td>86</td>\n",
       "      <td>Action|Thriller|Comedy|Crime</td>\n",
       "      <td>New Line Cinema|Angry Films</td>\n",
       "      <td>7/26/2007</td>\n",
       "      <td>6.2</td>\n",
       "      <td>2007</td>\n",
       "    </tr>\n",
       "  </tbody>\n",
       "</table>\n",
       "</div>"
      ],
      "text/plain": [
       "        imdb_id    budget    revenue  original_title  \\\n",
       "1377  tt0376105  30000000   93772522  Racing Stripes   \n",
       "1608  tt0330793  33000000   54700105    The Punisher   \n",
       "995   tt1397280  45000000  376141306         Taken 2   \n",
       "1427  tt0294870  40000000   31670620            Rent   \n",
       "1727  tt0465602  39000000   26820641    Shoot 'Em Up   \n",
       "\n",
       "                                                   cast            director  \\\n",
       "1377  Frankie Muniz|Mandy Moore|Hayden Panettiere|Br...    Frederik Du Chau   \n",
       "1608  Thomas Jane|John Travolta|Will Patton|Roy Sche...  Jonathan Hensleigh   \n",
       "995   Liam Neeson|Maggie Grace|Famke Janssen|Rade Se...     Olivier Megaton   \n",
       "1427  Anthony Rapp|Adam Pascal|Rosario Dawson|Jesse ...      Chris Columbus   \n",
       "1727  Clive Owen|Monica Bellucci|Paul Giamatti|Steph...       Michael Davis   \n",
       "\n",
       "                                                tagline  \\\n",
       "1377                           Cheer 'til you're horse!   \n",
       "1608        There is no justice, there is only revenge.   \n",
       "995   First they took his daughter. Now they're comi...   \n",
       "1427                                  No day but today.   \n",
       "1727           Just another family man making a living.   \n",
       "\n",
       "                                               overview  runtime  \\\n",
       "1377  Shattered illusions are hard to repair -- espe...      102   \n",
       "1608  When undercover FBI agent Frank Castle's wife ...      124   \n",
       "995   In Istanbul, retired CIA operative Bryan Mills...       91   \n",
       "1427  This rock opera tells the story of one year in...      135   \n",
       "1727  A man named Mr. Smith delivers a woman's baby ...       86   \n",
       "\n",
       "                            genres  \\\n",
       "1377                        Comedy   \n",
       "1608            Action|Crime|Drama   \n",
       "995    Action|Thriller|Crime|Drama   \n",
       "1427    Comedy|Drama|Music|Romance   \n",
       "1727  Action|Thriller|Comedy|Crime   \n",
       "\n",
       "                                   production_companies release_date  \\\n",
       "1377                                Alcon Entertainment     1/6/2005   \n",
       "1608  Lions Gate Films|VIP 3 Medienfonds|Valhalla Mo...    4/15/2004   \n",
       "995   Twentieth Century Fox Film Corporation|M6 Film...    9/27/2012   \n",
       "1427  Columbia Pictures|1492 Pictures|Revolution Stu...   11/23/2005   \n",
       "1727                        New Line Cinema|Angry Films    7/26/2007   \n",
       "\n",
       "      vote_average  release_year  \n",
       "1377           5.1          2005  \n",
       "1608           6.0          2004  \n",
       "995            6.0          2012  \n",
       "1427           6.5          2005  \n",
       "1727           6.2          2007  "
      ]
     },
     "execution_count": 3,
     "metadata": {},
     "output_type": "execute_result"
    }
   ],
   "source": [
    "data = pd.read_csv('movie_bd_v5.xls')\n",
    "data.sample(5)"
   ]
  },
  {
   "cell_type": "code",
   "execution_count": 5,
   "metadata": {
    "colab": {},
    "colab_type": "code",
    "id": "CoYUnagMVp-C"
   },
   "outputs": [
    {
     "data": {
      "text/html": [
       "<div>\n",
       "<style scoped>\n",
       "    .dataframe tbody tr th:only-of-type {\n",
       "        vertical-align: middle;\n",
       "    }\n",
       "\n",
       "    .dataframe tbody tr th {\n",
       "        vertical-align: top;\n",
       "    }\n",
       "\n",
       "    .dataframe thead th {\n",
       "        text-align: right;\n",
       "    }\n",
       "</style>\n",
       "<table border=\"1\" class=\"dataframe\">\n",
       "  <thead>\n",
       "    <tr style=\"text-align: right;\">\n",
       "      <th></th>\n",
       "      <th>budget</th>\n",
       "      <th>revenue</th>\n",
       "      <th>runtime</th>\n",
       "      <th>vote_average</th>\n",
       "      <th>release_year</th>\n",
       "    </tr>\n",
       "  </thead>\n",
       "  <tbody>\n",
       "    <tr>\n",
       "      <th>count</th>\n",
       "      <td>1.889000e+03</td>\n",
       "      <td>1.889000e+03</td>\n",
       "      <td>1889.000000</td>\n",
       "      <td>1889.000000</td>\n",
       "      <td>1889.000000</td>\n",
       "    </tr>\n",
       "    <tr>\n",
       "      <th>mean</th>\n",
       "      <td>5.431083e+07</td>\n",
       "      <td>1.553653e+08</td>\n",
       "      <td>109.658549</td>\n",
       "      <td>6.140762</td>\n",
       "      <td>2007.860773</td>\n",
       "    </tr>\n",
       "    <tr>\n",
       "      <th>std</th>\n",
       "      <td>4.858721e+07</td>\n",
       "      <td>2.146698e+08</td>\n",
       "      <td>18.017041</td>\n",
       "      <td>0.764763</td>\n",
       "      <td>4.468841</td>\n",
       "    </tr>\n",
       "    <tr>\n",
       "      <th>min</th>\n",
       "      <td>5.000000e+06</td>\n",
       "      <td>2.033165e+06</td>\n",
       "      <td>63.000000</td>\n",
       "      <td>3.300000</td>\n",
       "      <td>2000.000000</td>\n",
       "    </tr>\n",
       "    <tr>\n",
       "      <th>25%</th>\n",
       "      <td>2.000000e+07</td>\n",
       "      <td>3.456058e+07</td>\n",
       "      <td>97.000000</td>\n",
       "      <td>5.600000</td>\n",
       "      <td>2004.000000</td>\n",
       "    </tr>\n",
       "    <tr>\n",
       "      <th>50%</th>\n",
       "      <td>3.800000e+07</td>\n",
       "      <td>8.361541e+07</td>\n",
       "      <td>107.000000</td>\n",
       "      <td>6.100000</td>\n",
       "      <td>2008.000000</td>\n",
       "    </tr>\n",
       "    <tr>\n",
       "      <th>75%</th>\n",
       "      <td>7.200000e+07</td>\n",
       "      <td>1.782626e+08</td>\n",
       "      <td>120.000000</td>\n",
       "      <td>6.600000</td>\n",
       "      <td>2012.000000</td>\n",
       "    </tr>\n",
       "    <tr>\n",
       "      <th>max</th>\n",
       "      <td>3.800000e+08</td>\n",
       "      <td>2.781506e+09</td>\n",
       "      <td>214.000000</td>\n",
       "      <td>8.100000</td>\n",
       "      <td>2015.000000</td>\n",
       "    </tr>\n",
       "  </tbody>\n",
       "</table>\n",
       "</div>"
      ],
      "text/plain": [
       "             budget       revenue      runtime  vote_average  release_year\n",
       "count  1.889000e+03  1.889000e+03  1889.000000   1889.000000   1889.000000\n",
       "mean   5.431083e+07  1.553653e+08   109.658549      6.140762   2007.860773\n",
       "std    4.858721e+07  2.146698e+08    18.017041      0.764763      4.468841\n",
       "min    5.000000e+06  2.033165e+06    63.000000      3.300000   2000.000000\n",
       "25%    2.000000e+07  3.456058e+07    97.000000      5.600000   2004.000000\n",
       "50%    3.800000e+07  8.361541e+07   107.000000      6.100000   2008.000000\n",
       "75%    7.200000e+07  1.782626e+08   120.000000      6.600000   2012.000000\n",
       "max    3.800000e+08  2.781506e+09   214.000000      8.100000   2015.000000"
      ]
     },
     "execution_count": 5,
     "metadata": {},
     "output_type": "execute_result"
    }
   ],
   "source": [
    "data.describe()"
   ]
  },
  {
   "cell_type": "markdown",
   "metadata": {
    "colab_type": "text",
    "id": "DTIt7ezGVp-G"
   },
   "source": [
    "# Предобработка"
   ]
  },
  {
   "cell_type": "code",
   "execution_count": 23,
   "metadata": {
    "colab": {},
    "colab_type": "code",
    "id": "jNb40DwKVp-H"
   },
   "outputs": [],
   "source": [
    "answers = {} # создадим словарь для ответов\n",
    "\n",
    "# тут другие ваши предобработки колонок например:\n",
    "\n",
    "#the time given in the dataset is in string format.\n",
    "#So we need to change this in datetime format\n",
    "# ...\n",
    "data['profit'] = data.revenue - data.budget # создаем столбец profit (прибыль)\n",
    "data.release_date = pd.to_datetime(data.release_date) # разделяем дату релиза\n",
    "data['release_month'] = data.release_date.dt.month # создаем колнку с месяцем релиза"
   ]
  },
  {
   "cell_type": "markdown",
   "metadata": {
    "colab_type": "text",
    "id": "YxZaH-nPVp-L"
   },
   "source": [
    "# 1. У какого фильма из списка самый большой бюджет?"
   ]
  },
  {
   "cell_type": "markdown",
   "metadata": {
    "colab_type": "text",
    "id": "Nd-G5gX6Vp-M"
   },
   "source": [
    "Использовать варианты ответов в коде решения запрещено.    \n",
    "Вы думаете и в жизни у вас будут варианты ответов?)"
   ]
  },
  {
   "cell_type": "code",
   "execution_count": 24,
   "metadata": {
    "colab": {},
    "colab_type": "code",
    "id": "uVnXAY5RVp-O"
   },
   "outputs": [],
   "source": [
    "# в словарь вставляем номер вопроса и ваш ответ на него\n",
    "# Пример: \n",
    "answers['1'] = '2. Spider-Man 3 (tt0413300)'\n",
    "# запишите свой вариант ответа\n",
    "answers['1'] = '...'\n",
    "# если ответили верно, можете добавить комментарий со значком \"+\"\n",
    "answers['1'] = '5. Pirates of the Caribbean: On Stranger Tides (tt1298650)' # +"
   ]
  },
  {
   "cell_type": "code",
   "execution_count": 18,
   "metadata": {
    "colab": {},
    "colab_type": "code",
    "id": "dZwb3m28Vp-S"
   },
   "outputs": [
    {
     "data": {
      "text/plain": [
       "'Pirates of the Caribbean: On Stranger Tides'"
      ]
     },
     "execution_count": 18,
     "metadata": {},
     "output_type": "execute_result"
    }
   ],
   "source": [
    "# тут пишем ваш код для решения данного вопроса:\n",
    "# Создаем DataFrame data1 для работы над этим заданием, путем копирования оригинального DataFrame Data\n",
    "# фильтруем значения data1, чтобы остались те фильмы из которых нужно выбрать фильм с самым большим бюджетом\n",
    "# далее сортируем полученный DataFrame по колонке budget от максимального значения к минимальному и сбрасываем индексы \n",
    "# (что бы было удобно запросить значение отфильтрованного DataFrame) \n",
    "# запрашиваем название фильма помещенного после фильтрации и сортировки в первую строку.\n",
    "data1 = data.copy() # создаем копию\n",
    "data1 = data.query('''original_title in [\"The Dark Knight Rises\", \"Spider-Man 3\",\"Avengers: Age of Ultron\", \"The Warrior's Way\", \"Pirates of the Caribbean: On Stranger Tides\"]''') # фильтруем значения\n",
    "\n",
    "data1 = data1.sort_values(['budget'],ascending=False).reset_index() # cортируем значения и удаляем индексы\n",
    "data1.loc[0]['original_title'] # запрашиваем ответ"
   ]
  },
  {
   "cell_type": "markdown",
   "metadata": {
    "colab_type": "text",
    "id": "K7L3nbRXVp-X"
   },
   "source": [
    "ВАРИАНТ 2"
   ]
  },
  {
   "cell_type": "code",
   "execution_count": 0,
   "metadata": {
    "colab": {},
    "colab_type": "code",
    "id": "OGaoQI7rVp-X"
   },
   "outputs": [],
   "source": [
    "# можно добавлять разные варианты решения"
   ]
  },
  {
   "cell_type": "markdown",
   "metadata": {
    "colab_type": "text",
    "id": "FNRbbI3vVp-c"
   },
   "source": [
    "# 2. Какой из фильмов самый длительный (в минутах)?"
   ]
  },
  {
   "cell_type": "code",
   "execution_count": 25,
   "metadata": {
    "colab": {},
    "colab_type": "code",
    "id": "vHAoEXNTVp-d"
   },
   "outputs": [],
   "source": [
    "# думаю логику работы с этим словарем вы уже поняли, \n",
    "# по этому не буду больше его дублировать\n",
    "answers['2'] = '2. Gods and Generals (tt0279111)' # +"
   ]
  },
  {
   "cell_type": "code",
   "execution_count": 21,
   "metadata": {
    "colab": {},
    "colab_type": "code",
    "id": "ot-VX2XrVp-g"
   },
   "outputs": [
    {
     "data": {
      "text/plain": [
       "'Gods and Generals'"
      ]
     },
     "execution_count": 21,
     "metadata": {},
     "output_type": "execute_result"
    }
   ],
   "source": [
    "# Создаем DataFrame data2 для работы над этим заданием, путем копирования оригинального DataFrame Data\n",
    "# фильтруем значения data2, чтобы остались те фильмы из которых нужно выбрать фильм с наибольшей длительностью\n",
    "# далее сортируем полученный DataFrame по колонке runtime от максимального значения к минимальному и сбрасываем индексы \n",
    "# (что бы было удобно запросить значение отфильтрованного DataFrame) \n",
    "# запрашиваем название фильма помещенного после фильтрации и сортировки в первую строку.\n",
    "data2 = data.copy() # создаем копию\n",
    "data2 = data2.query('''original_title in [\"The Lord of the Rings: The Return of the King\", \"Gods and Generals\", \"King Kong\", \"Pearl Harbor\", \"Alexander\"]''')# фильтруем значения\n",
    "\n",
    "data2 = data2.sort_values(['runtime'],ascending=False).reset_index() # сортируем значения и удаляем индексы\n",
    "data2.loc[0]['original_title'] # запрашиваем ответ"
   ]
  },
  {
   "cell_type": "markdown",
   "metadata": {
    "colab_type": "text",
    "id": "bapLlpW8Vp-k"
   },
   "source": [
    "# 3. Какой из фильмов самый короткий (в минутах)?\n",
    "\n",
    "\n",
    "\n"
   ]
  },
  {
   "cell_type": "code",
   "execution_count": 26,
   "metadata": {
    "colab": {},
    "colab_type": "code",
    "id": "YBxaSHuAVp-l"
   },
   "outputs": [],
   "source": [
    "answers['3'] = '3. Winnie the Pooh (tt1449283)' # +"
   ]
  },
  {
   "cell_type": "code",
   "execution_count": 33,
   "metadata": {},
   "outputs": [
    {
     "data": {
      "text/plain": [
       "'Winnie the Pooh'"
      ]
     },
     "execution_count": 33,
     "metadata": {},
     "output_type": "execute_result"
    }
   ],
   "source": [
    "# Создаем DataFrame data3 для работы над этим заданием, путем копирования оригинального DataFrame Data\n",
    "# фильтруем значения data3, чтобы остались те фильмы из которых нужно выбрать фильм с наименьшей длительностю\n",
    "# далее сортируем полученный DataFrame по колонке runtime от минимального значения к максимальному и сбрасываем индексы \n",
    "# (что бы было удобно запросить значение отфильтрованного DataFrame) \n",
    "# запрашиваем название фильма помещенного после фильтрации и сортировки в первую строку.\n",
    "\n",
    "data3 = data.copy() # создаем копию\n",
    "data3 = data3.query('''original_title in [\"Home on the Range\", \"The Jungle Book 2\", \"Winnie the Pooh\", \"Corpse Bride\", \"Hoodwinked!\"]''')# фильтруем значения\n",
    "\n",
    "data3 = data3.sort_values(['runtime']).reset_index() # cортируем значения и удаляем индексы\n",
    "data3.loc[0]['original_title'] # запрашиваем ответ"
   ]
  },
  {
   "cell_type": "markdown",
   "metadata": {
    "colab_type": "text",
    "id": "TfQbxbfNVp-p"
   },
   "source": [
    "# 4. Какова средняя длительность фильмов?\n"
   ]
  },
  {
   "cell_type": "code",
   "execution_count": 27,
   "metadata": {
    "colab": {},
    "colab_type": "code",
    "id": "5K6dKZYVVp-q"
   },
   "outputs": [],
   "source": [
    "answers['4'] = '2. 110' # +"
   ]
  },
  {
   "cell_type": "code",
   "execution_count": 37,
   "metadata": {},
   "outputs": [
    {
     "data": {
      "text/plain": [
       "110"
      ]
     },
     "execution_count": 37,
     "metadata": {},
     "output_type": "execute_result"
    }
   ],
   "source": [
    "# Создаем DataFrame data4 для работы над этим заданием, путем копирования оригинального DataFrame Data\n",
    "# с помощью метода mean() узнаем среднюю длительность фильмов (т.е. среднее значение по колонке runtime)\n",
    "# и округляем ответ с помощью функции round()\n",
    "\n",
    "data4 = data.copy() # создаем копию\n",
    "round(data4.runtime.mean()) #считаем среднее и округляем ответ"
   ]
  },
  {
   "cell_type": "markdown",
   "metadata": {
    "colab_type": "text",
    "id": "r5TvbnT_Vp-u"
   },
   "source": [
    "# 5. Каково медианное значение длительности фильмов? "
   ]
  },
  {
   "cell_type": "code",
   "execution_count": 28,
   "metadata": {
    "colab": {},
    "colab_type": "code",
    "id": "iBROplKnVp-v"
   },
   "outputs": [],
   "source": [
    "answers['5'] = '1. 107' # +"
   ]
  },
  {
   "cell_type": "code",
   "execution_count": 39,
   "metadata": {},
   "outputs": [
    {
     "data": {
      "text/plain": [
       "107"
      ]
     },
     "execution_count": 39,
     "metadata": {},
     "output_type": "execute_result"
    }
   ],
   "source": [
    "# Создаем DataFrame data5 для работы над этим заданием, путем копирования оригинального DataFrame Data\n",
    "# с помощью метода median() узнаем медианную длительность фильмов (т.е. медианное значение по колонке runtime)\n",
    "# и округляем ответ с помощью функции round()\n",
    "\n",
    "data5 = data.copy() # создаем копию\n",
    "round(data5.runtime.median()) # считаем медиану и округляем ответ"
   ]
  },
  {
   "cell_type": "markdown",
   "metadata": {
    "colab_type": "text",
    "id": "39P-deDSVp-y"
   },
   "source": [
    "# 6. Какой самый прибыльный фильм?\n",
    "#### Внимание! Здесь и далее под «прибылью» или «убытками» понимается разность между сборами и бюджетом фильма. (прибыль = сборы - бюджет) в нашем датасете это будет (profit = revenue - budget) "
   ]
  },
  {
   "cell_type": "code",
   "execution_count": 29,
   "metadata": {
    "colab": {},
    "colab_type": "code",
    "id": "UYZh4T9WVp-y"
   },
   "outputs": [],
   "source": [
    "# лучше код получения столбца profit вынести в Предобработку что в начале\n",
    "answers['6'] = '5. Avatar (tt0499549)' # +"
   ]
  },
  {
   "cell_type": "code",
   "execution_count": 50,
   "metadata": {},
   "outputs": [
    {
     "data": {
      "text/plain": [
       "'Avatar'"
      ]
     },
     "execution_count": 50,
     "metadata": {},
     "output_type": "execute_result"
    }
   ],
   "source": [
    "# Создаем DataFrame data6 для работы над этим заданием, путем копирования оригинального DataFrame Data\n",
    "# фильтруем значения data6, чтобы остались те фильмы из которых нужно выбрать фильм с наибольшей прибылью\n",
    "# далее сортируем полученный DataFrame по колонке profit от максимального значения к минимальному и сбрасываем индексы \n",
    "# (что бы было удобно запросить значение отфильтрованного DataFrame) \n",
    "# запрашиваем название фильма помещенного после фильтрации и сортировки в первую строку.\n",
    "\n",
    "data6 = data.copy() # создаем копию\n",
    "data6 = data6.query('''original_title in [\"The Avengers\", \"Minions\", \"Star Wars: The Force Awakens\", \"Furious 7\", \"Avatar\"]''') # фильтруем значения\n",
    "\n",
    "data6 = data6.sort_values(['profit'],ascending=False).reset_index() # cортируем значения и удаляем индексы\n",
    "data6.loc[0]['original_title'] # запрашиваем ответ"
   ]
  },
  {
   "cell_type": "markdown",
   "metadata": {
    "colab_type": "text",
    "id": "M99JmIX4Vp-2"
   },
   "source": [
    "# 7. Какой фильм самый убыточный? "
   ]
  },
  {
   "cell_type": "code",
   "execution_count": 30,
   "metadata": {
    "colab": {},
    "colab_type": "code",
    "id": "w-D2m4XPVp-3"
   },
   "outputs": [],
   "source": [
    "answers['7'] = '5. The Lone Ranger (tt1210819)' # +"
   ]
  },
  {
   "cell_type": "code",
   "execution_count": 54,
   "metadata": {},
   "outputs": [
    {
     "data": {
      "text/plain": [
       "'The Lone Ranger'"
      ]
     },
     "execution_count": 54,
     "metadata": {},
     "output_type": "execute_result"
    }
   ],
   "source": [
    "# Создаем DataFrame data7 для работы над этим заданием, путем копирования оригинального DataFrame Data\n",
    "# фильтруем значения data7, чтобы остались те фильмы из которых нужно выбрать фильм с наименьшей прибылью\n",
    "# далее сортируем полученный DataFrame по колонке profit от минимального значения к максимальному и сбрасываем индексы \n",
    "# (что бы было удобно запросить значение отфильтрованного DataFrame) \n",
    "# запрашиваем название фильма помещенного после фильтрации и сортировки в первую строку.\n",
    "\n",
    "data7 = data.copy()# создаем копию\n",
    "data7 = data7.query('''original_title in [\"Supernova\", \"Frozen\", \"Flushed Away\", \"The Adventures of Pluto Nash\", \"The Lone Ranger\"]''') # фильтруем значения\n",
    "\n",
    "data7 = data7.sort_values(['profit']).reset_index() # cортируем значения и удаляем индексы\n",
    "data7.loc[0]['original_title'] # запрашиваем ответ"
   ]
  },
  {
   "cell_type": "markdown",
   "metadata": {
    "colab_type": "text",
    "id": "wEOM5ERVVp-6"
   },
   "source": [
    "# 8. У скольких фильмов из датасета объем сборов оказался выше бюджета?"
   ]
  },
  {
   "cell_type": "code",
   "execution_count": 31,
   "metadata": {
    "colab": {},
    "colab_type": "code",
    "id": "y00_7HD6Vp-7"
   },
   "outputs": [],
   "source": [
    "answers['8'] = '1. 1478' # +"
   ]
  },
  {
   "cell_type": "code",
   "execution_count": 56,
   "metadata": {},
   "outputs": [
    {
     "data": {
      "text/plain": [
       "1478"
      ]
     },
     "execution_count": 56,
     "metadata": {},
     "output_type": "execute_result"
    }
   ],
   "source": [
    "# Создаем DataFrame data8 для работы над этим заданием, путем копирования оригинального DataFrame Data\n",
    "# фильтруем значения data8, чтобы остались те фильмы у которых объем сборов оказался выше бюджета (т.е. значение profit > 0)\n",
    "# далее, с поомщью метода count() запрашиваем колиичество фильмов полученных в результате фильтрации.\n",
    "\n",
    "data8 = data.copy() # создаем копию\n",
    "data8 = data8[(data8.profit>0)] # фильтруем значения\n",
    "data8.imdb_id.count() # запрашиваем ответ"
   ]
  },
  {
   "cell_type": "markdown",
   "metadata": {
    "colab_type": "text",
    "id": "xhpspA9KVp_A"
   },
   "source": [
    "# 9. Какой фильм оказался самым кассовым в 2008 году?"
   ]
  },
  {
   "cell_type": "code",
   "execution_count": 32,
   "metadata": {
    "colab": {},
    "colab_type": "code",
    "id": "MoUyQr9RVp_B"
   },
   "outputs": [],
   "source": [
    "answers['9'] = '4. The Dark Knight (tt0468569)' # +"
   ]
  },
  {
   "cell_type": "code",
   "execution_count": 59,
   "metadata": {},
   "outputs": [
    {
     "data": {
      "text/plain": [
       "'The Dark Knight'"
      ]
     },
     "execution_count": 59,
     "metadata": {},
     "output_type": "execute_result"
    }
   ],
   "source": [
    "# Создаем DataFrame data9 для работы над этим заданием, путем копирования оригинального DataFrame Data\n",
    "# фильтруем значения data9, чтобы остались те фильмы которые вышли в 2008 году\n",
    "# далее сортируем полученный DataFrame по колонке revenue от максимального значения к минимальному и сбрасываем индексы \n",
    "# (что бы было удобно запросить значение отфильтрованного DataFrame) \n",
    "# запрашиваем название фильма помещенного после фильтрации и сортировки в первую строку.\n",
    "\n",
    "data9 = data.copy() # создаем копию\n",
    "data9 = data9.query('release_year == 2008') # фильтруем значения\n",
    "data9 = data9.sort_values(['revenue'],ascending=False).reset_index() # cортируем значения и удаляем индексы\n",
    "data9.loc[0]['original_title'] # запрашиваем ответ"
   ]
  },
  {
   "cell_type": "markdown",
   "metadata": {
    "colab_type": "text",
    "id": "Zi4hDKidVp_F"
   },
   "source": [
    "# 10. Самый убыточный фильм за период с 2012 по 2014 г. (включительно)?\n"
   ]
  },
  {
   "cell_type": "code",
   "execution_count": 33,
   "metadata": {
    "colab": {},
    "colab_type": "code",
    "id": "XqyRmufJVp_F"
   },
   "outputs": [],
   "source": [
    "answers['10'] = '5. The Lone Ranger (tt1210819)' # +"
   ]
  },
  {
   "cell_type": "code",
   "execution_count": 63,
   "metadata": {},
   "outputs": [
    {
     "data": {
      "text/plain": [
       "'The Lone Ranger'"
      ]
     },
     "execution_count": 63,
     "metadata": {},
     "output_type": "execute_result"
    }
   ],
   "source": [
    "# Создаем DataFrame data10 для работы над этим заданием, путем копирования оригинального DataFrame Data\n",
    "# фильтруем значения data10, чтобы остались те фильмы которые вышли в период с 2012 по 2014 гг. включительно\n",
    "# далее сортируем полученный DataFrame по колонке profit от минимального значения к максимальному и сбрасываем индексы \n",
    "# (что бы было удобно запросить значение отфильтрованного DataFrame) \n",
    "# запрашиваем название фильма помещенного после фильтрации и сортировки в первую строку.\n",
    "\n",
    "data10 = data.copy() # создаем копию\n",
    "data10 = data10.query('2012 <= release_year <= 2014') # фильтруем значения/\n",
    "data10 = data10.sort_values(['profit']).reset_index() # cортируем значения и удаляем индексы\n",
    "data10.loc[0]['original_title'] # запрашиваем ответ"
   ]
  },
  {
   "cell_type": "markdown",
   "metadata": {
    "colab_type": "text",
    "id": "EA7Sa9dkVp_I"
   },
   "source": [
    "# 11. Какого жанра фильмов больше всего?"
   ]
  },
  {
   "cell_type": "code",
   "execution_count": 34,
   "metadata": {
    "colab": {},
    "colab_type": "code",
    "id": "zsJAwJ8QVp_J"
   },
   "outputs": [],
   "source": [
    "# эту задачу тоже можно решать разными подходами, попробуй реализовать разные варианты\n",
    "# если будешь добавлять функцию - выноси ее в предобработку что в начале\n",
    "answers['11'] = '3. Drama ' # +"
   ]
  },
  {
   "cell_type": "code",
   "execution_count": 77,
   "metadata": {},
   "outputs": [
    {
     "data": {
      "text/plain": [
       "'Drama'"
      ]
     },
     "execution_count": 77,
     "metadata": {},
     "output_type": "execute_result"
    }
   ],
   "source": [
    "# Создаем DataFrame data11 для работы над этим заданием, путем копирования оригинального DataFrame Data\n",
    "# превращаем жанры (значения в колонке 'genres') в одну строку с разделителем '|'\n",
    "# далее создаем series разделяя строку по '|'\n",
    "# считаем колличество элементов и сортируем от максимального значения к минимальному\n",
    "# запрашиваем название индекса [0], который и будет ответом на поставленный вопрос\n",
    "\n",
    "data11 = data.copy() # создаем копию\n",
    "data11 = data11['genres'].str.cat(sep='|') # превращаем все в одну строку\n",
    "data11 = pd.Series(data11.split('|')) # создаем series разделяя строку по '|'\n",
    "data11 = data11.value_counts(ascending=False) # считаем количество элементов строке\n",
    "data11.index[0] # запрашиваем ответ\n"
   ]
  },
  {
   "cell_type": "markdown",
   "metadata": {
    "colab_type": "text",
    "id": "Ax6g2C8SVp_M"
   },
   "source": [
    "ВАРИАНТ 2"
   ]
  },
  {
   "cell_type": "code",
   "execution_count": 0,
   "metadata": {
    "colab": {},
    "colab_type": "code",
    "id": "otO3SbrSVp_N"
   },
   "outputs": [],
   "source": []
  },
  {
   "cell_type": "markdown",
   "metadata": {
    "colab_type": "text",
    "id": "T9_bPWpkVp_Q"
   },
   "source": [
    "# 12. Фильмы какого жанра чаще всего становятся прибыльными? "
   ]
  },
  {
   "cell_type": "code",
   "execution_count": 35,
   "metadata": {
    "colab": {},
    "colab_type": "code",
    "id": "Tmt8MaK1Vp_R"
   },
   "outputs": [],
   "source": [
    "answers['12'] = '1. Drama' # +"
   ]
  },
  {
   "cell_type": "code",
   "execution_count": 80,
   "metadata": {},
   "outputs": [
    {
     "data": {
      "text/plain": [
       "'Drama'"
      ]
     },
     "execution_count": 80,
     "metadata": {},
     "output_type": "execute_result"
    }
   ],
   "source": [
    "# Создаем DataFrame data12 для работы над этим заданием, путем копирования оригинального DataFrame Data\n",
    "# фильтруем значения data12 по колонке profit, что бы оставить только прибыльные фильмы (т.е. те у которых значение profit>0)\n",
    "# превращаем жанры (значения в колонке 'genres') в одну строку с разделителем '|'\n",
    "# далее создаем series разделяя строку по '|'\n",
    "# считаем колличество элементов и сортируем от максимального значения к минимальному\n",
    "# запрашиваем название индекса [0], который и будет ответом на поставленный вопрос\n",
    "\n",
    "data12 = data.copy() # создаем копию\n",
    "data12 = data12[(data.profit>0)] # фильтруем значения прибыльности фильмов\n",
    "data12 = data12['genres'].str.cat(sep='|') # превращаем все в одну строку\n",
    "data12 = pd.Series(data12.split('|')) # создаем series разделяя строку по '|'\n",
    "data12 = data12.value_counts(ascending=False) # считаем количество элементов строке\n",
    "data12.index[0] # запрашиваем ответ"
   ]
  },
  {
   "cell_type": "markdown",
   "metadata": {
    "colab_type": "text",
    "id": "0F23bgsDVp_U"
   },
   "source": [
    "# 13. У какого режиссера самые большие суммарные кассовые сборы?"
   ]
  },
  {
   "cell_type": "code",
   "execution_count": 36,
   "metadata": {
    "colab": {},
    "colab_type": "code",
    "id": "K6Z3J8ygVp_X"
   },
   "outputs": [],
   "source": [
    "answers['13'] = '5. Peter Jackson' # +"
   ]
  },
  {
   "cell_type": "code",
   "execution_count": 84,
   "metadata": {},
   "outputs": [
    {
     "data": {
      "text/plain": [
       "'Peter Jackson'"
      ]
     },
     "execution_count": 84,
     "metadata": {},
     "output_type": "execute_result"
    }
   ],
   "source": [
    "# Создаем DataFrame data13 для работы над этим заданием, путем копирования оригинального DataFrame Data\n",
    "# создаем множество directors состоящее из имен режиссеров\n",
    "# далее создаем series directors_13 используя цикл, проходящий мо мнжеству directors и считаем колличество значений\n",
    "# запрашиваем название индекса [0]у series directors_13, который и будет ответом\n",
    "\n",
    "data13 = data.copy() # создаем копию\n",
    "directors = set(data13.director.str.split('|').sum()) # создаем множество \n",
    "directors_13 = pd.Series({x: data13[data13.director.str.contains(x)].revenue.sum() for x in directors}).sort_values(ascending = False) # создаем Series \n",
    "directors_13.index[0] # запрашиваем ответ"
   ]
  },
  {
   "cell_type": "markdown",
   "metadata": {
    "colab_type": "text",
    "id": "PsYC9FgRVp_a"
   },
   "source": [
    "# 14. Какой режисер снял больше всего фильмов в стиле Action?"
   ]
  },
  {
   "cell_type": "code",
   "execution_count": 37,
   "metadata": {
    "colab": {},
    "colab_type": "code",
    "id": "wd2M-wHeVp_b"
   },
   "outputs": [],
   "source": [
    "answers['14'] = '3. Robert Rodriguez' # +"
   ]
  },
  {
   "cell_type": "code",
   "execution_count": 86,
   "metadata": {},
   "outputs": [
    {
     "data": {
      "text/plain": [
       "'Robert Rodriguez'"
      ]
     },
     "execution_count": 86,
     "metadata": {},
     "output_type": "execute_result"
    }
   ],
   "source": [
    "# Создаем DataFrame data14 для работы над этим заданием, путем копирования оригинального DataFrame Data\n",
    "# фильтруем значения data14 по колонке genres, что бы оставить только те фильмы которые содержат жанр Action\n",
    "# превращаем режиссеров (значения в колонке 'director') в одну строку с разделителем '|'\n",
    "# далее создаем series разделяя строку по '|'\n",
    "# считаем колличество элементов и сортируем от максимального значения к минимальному\n",
    "# запрашиваем название индекса [0], который и будет ответом на поставленный вопрос\n",
    "\n",
    "data14 = data.copy()# создаем копию\n",
    "data14 = data14[data14.genres.str.contains(\"Action\")] # фильтруем значение\n",
    "data14 = data14['director'].str.cat(sep='|') # превращаем все в одну строку\n",
    "data14 = pd.Series(data14.split('|')) # создаем Series разделяя строку по '|'\n",
    "data14 = data14.value_counts(['revenue'], ascending=False) # считаем количество элементов строке\n",
    "data14.index[0] # запрашиваем ответ"
   ]
  },
  {
   "cell_type": "markdown",
   "metadata": {
    "colab_type": "text",
    "id": "PQ0KciD7Vp_f"
   },
   "source": [
    "# 15. Фильмы с каким актером принесли самые высокие кассовые сборы в 2012 году? "
   ]
  },
  {
   "cell_type": "code",
   "execution_count": 38,
   "metadata": {
    "colab": {},
    "colab_type": "code",
    "id": "aga62oeKVp_g"
   },
   "outputs": [],
   "source": [
    "answers['15'] = '3. Chris Hemsworth' # +"
   ]
  },
  {
   "cell_type": "code",
   "execution_count": 91,
   "metadata": {},
   "outputs": [
    {
     "data": {
      "text/plain": [
       "'Chris Hemsworth'"
      ]
     },
     "execution_count": 91,
     "metadata": {},
     "output_type": "execute_result"
    }
   ],
   "source": [
    "# Создаем DataFrame data15 для работы над этим заданием, путем копирования оригинального DataFrame Data\n",
    "# фильтруем значения data15 по колонке release_year, что бы оставить только те фильмы которые вышли в 2012 году\n",
    "# далее раздляем актеров, помещяя их имена в строки, после чего разделяем строки чтобы у каждого имени актера было \n",
    "# одно название фильма\n",
    "# делаем сводную таблицу по именам актеров и сумме сборов\n",
    "# запрашиваем название индекса [0], который и будет ответом на поставленный вопрос\n",
    "\n",
    "data15 = data.copy()# создаем копию\n",
    "data15 = data15[data15.release_year == 2012] # фильтруем значение\n",
    "data15['cast'] = data15['cast'].str.split('|') # превращаем в одну строку\n",
    "data15 = data15.explode('cast') # разделяем строки \n",
    "data15 = data15.groupby(['cast'])['revenue'].sum().sort_values(ascending=False) # делаем сводную таблицу и считаем сумму сборов\n",
    "data15.index[0] # запрашиваем ответ"
   ]
  },
  {
   "cell_type": "markdown",
   "metadata": {
    "colab_type": "text",
    "id": "mWHyyL7QVp_j"
   },
   "source": [
    "# 16. Какой актер снялся в большем количестве высокобюджетных фильмов?"
   ]
  },
  {
   "cell_type": "code",
   "execution_count": 39,
   "metadata": {
    "colab": {},
    "colab_type": "code",
    "id": "qQtmHKTFVp_k"
   },
   "outputs": [],
   "source": [
    "answers['16'] = '3. Matt Damon' # +"
   ]
  },
  {
   "cell_type": "code",
   "execution_count": 95,
   "metadata": {},
   "outputs": [
    {
     "data": {
      "text/plain": [
       "'Matt Damon'"
      ]
     },
     "execution_count": 95,
     "metadata": {},
     "output_type": "execute_result"
    }
   ],
   "source": [
    "# Создаем DataFrame data16 для работы над этим заданием, путем копирования оригинального DataFrame Data\n",
    "# фильтруем значения data16 по колонке budget, что бы оставить только те фильмы у которых бюджет больше чем среднее значение\n",
    "# далее раздляем актеров, помещяя их имена в строки, после чего разделяем строки чтобы у каждого имени актера было \n",
    "# одно название фильма\n",
    "# делаем сводную таблицу по именам актеров и колличеству фильмов\n",
    "# запрашиваем название индекса [0], который и будет ответом на поставленный вопрос\n",
    "\n",
    "data16 = data.copy()# создаем копию\n",
    "data16 = data16[data16.budget > data16.budget.mean()] # фильтруем значение\n",
    "data16['cast']= data16['cast'].str.split('|') # превращаем в одну строку\n",
    "data16 = data16.explode('cast') # разделяем строки \n",
    "data16 = data16.groupby(['cast'])['budget'].count().sort_values(ascending=False) # делаем сводную таблицу и считаем колличество\n",
    "data16.index[0] # запрашиваем ответ"
   ]
  },
  {
   "cell_type": "markdown",
   "metadata": {
    "colab_type": "text",
    "id": "NIh6AaW5Vp_n"
   },
   "source": [
    "# 17. В фильмах какого жанра больше всего снимался Nicolas Cage? "
   ]
  },
  {
   "cell_type": "code",
   "execution_count": 40,
   "metadata": {
    "colab": {},
    "colab_type": "code",
    "id": "H74SJDIBVp_n"
   },
   "outputs": [],
   "source": [
    "answers['17'] = '2. Action' # +"
   ]
  },
  {
   "cell_type": "code",
   "execution_count": 98,
   "metadata": {},
   "outputs": [
    {
     "data": {
      "text/plain": [
       "'Action'"
      ]
     },
     "execution_count": 98,
     "metadata": {},
     "output_type": "execute_result"
    }
   ],
   "source": [
    "# Создаем DataFrame data17 для работы над этим заданием, путем копирования оригинального DataFrame Data\n",
    "# фильтруем значения data17 по колонке cast, что бы оставить только те фильмы в которых снимался \"Nicolas Cage\"\n",
    "# далее раздляем актеров, помещяя их имена в строки, после чего разделяем строки чтобы у каждого имени актера было \n",
    "# одно название фильма. После этого снова фильтруем значения data17 по колонке cast, что бы оставить только те строки \n",
    "# в которых актером указан \"Nicolas Cage\"\n",
    "# далее далее раздляем жанры, помещяя их в строки, после чего разделяем строки чтобы у каждого жанра было \n",
    "# одно название фильма.\n",
    "# делаем сводную таблицу по жанрам и колличеству фильмов\n",
    "# запрашиваем название индекса [0], который и будет ответом на поставленный вопрос\n",
    "\n",
    "data17 = data.copy()# создаем копию\n",
    "data17 = data17[data17.cast.str.contains(\"Nicolas Cage\")] # фильтруем значение\n",
    "data17['cast'] = data17['cast'].str.split('|') # превращаем в одну строку\n",
    "data17 = data17.explode('cast') # разделяем строки \n",
    "data17 = data17[data17.cast.str.contains(\"Nicolas Cage\")] # фильтруем значение\n",
    "data17['genres'] = data17['genres'].str.split('|') # превращаем в одну строку\n",
    "data17 = data17.explode('genres') # разделяем строки \n",
    "data17 = data17.groupby(['genres'])['revenue'].count().sort_values(ascending=False) # делаем сводную таблицу и считаем колличество\n",
    "data17.index[0] # запрашиваем ответ"
   ]
  },
  {
   "cell_type": "markdown",
   "metadata": {
    "colab_type": "text",
    "id": "RqOmPRfWVp_q"
   },
   "source": [
    "# 18. Самый убыточный фильм от Paramount Pictures"
   ]
  },
  {
   "cell_type": "code",
   "execution_count": 41,
   "metadata": {
    "colab": {},
    "colab_type": "code",
    "id": "9E_B0Y96Vp_r"
   },
   "outputs": [],
   "source": [
    "answers['18'] = '1. K-19: The Widowmaker (tt0267626)' # +"
   ]
  },
  {
   "cell_type": "code",
   "execution_count": 107,
   "metadata": {},
   "outputs": [
    {
     "data": {
      "text/plain": [
       "'K-19: The Widowmaker'"
      ]
     },
     "execution_count": 107,
     "metadata": {},
     "output_type": "execute_result"
    }
   ],
   "source": [
    "# Создаем DataFrame data18 для работы над этим заданием, путем копирования оригинального DataFrame Data\n",
    "# фильтруем значения data18 по колонке profit, что бы оставить только те фильмы в которых по итогам проката был убыток\n",
    "# далее раздляем кинокомпании, помещяя их имена в строки, после чего разделяем строки чтобы у каждого названия компании было \n",
    "# одно название фильма. После этого снова фильтруем значения data18 по колонке production_companies, что бы оставить \n",
    "# только те строки в которых компанией указана Paramount Pictures \n",
    "# Затем соритруем фильмы по значению profit от минимума к максимому и удаляем индексы\n",
    "# запрашиваем название индекса [0], который и будет ответом на поставленный вопрос\n",
    "\n",
    "data18 = data.copy() # создаем копию\n",
    "data18 = data18[(data18.profit < 0)] # фильтруем значение\n",
    "data18['production_companies'] = data18['production_companies'].str.split('|') # создаем строки\n",
    "data18 = data18.explode('production_companies') # разделяем строки\n",
    "data18 = data18[data18.production_companies.str.contains(\"Paramount Pictures\")] # фильтруем значения второй раз\n",
    "data18 = data18.sort_values(['profit']).reset_index() # cортируем значения и удаляем индексы\n",
    "data18.loc[0]['original_title'] # запрашиваем ответ"
   ]
  },
  {
   "cell_type": "markdown",
   "metadata": {
    "colab_type": "text",
    "id": "vS8Ur6ddVp_u"
   },
   "source": [
    "# 19. Какой год стал самым успешным по суммарным кассовым сборам?"
   ]
  },
  {
   "cell_type": "code",
   "execution_count": 42,
   "metadata": {
    "colab": {},
    "colab_type": "code",
    "id": "Dnbt4GdIVp_v"
   },
   "outputs": [],
   "source": [
    "answers['19'] = '5. 2015' # +"
   ]
  },
  {
   "cell_type": "code",
   "execution_count": 109,
   "metadata": {},
   "outputs": [
    {
     "data": {
      "text/plain": [
       "2015"
      ]
     },
     "execution_count": 109,
     "metadata": {},
     "output_type": "execute_result"
    }
   ],
   "source": [
    "# Создаем DataFrame data19 для работы над этим заданием, путем копирования оригинального DataFrame Data\n",
    "# делаем сводную таблицу по году выпуска и сумме сборов, и сортируем значения от максимума к минимумум\n",
    "# запрашиваем название индекса [0], который и будет ответом на поставленный вопрос\n",
    "\n",
    "data19 = data.copy() # создаем копию\n",
    "data19 = data19.groupby(['release_year'])['revenue'].sum().sort_values(ascending=False) # делаем сводную таблицу и считаем сумму\n",
    "data19.index[0] # запрашиваем ответ"
   ]
  },
  {
   "cell_type": "markdown",
   "metadata": {
    "colab_type": "text",
    "id": "JAzJh4QAVp_z"
   },
   "source": [
    "# 20. Какой самый прибыльный год для студии Warner Bros?"
   ]
  },
  {
   "cell_type": "code",
   "execution_count": 43,
   "metadata": {
    "colab": {},
    "colab_type": "code",
    "id": "wgVu02DEVp_0"
   },
   "outputs": [],
   "source": [
    "answers['20'] = '1. 2014' # +"
   ]
  },
  {
   "cell_type": "code",
   "execution_count": 111,
   "metadata": {},
   "outputs": [
    {
     "data": {
      "text/plain": [
       "2014"
      ]
     },
     "execution_count": 111,
     "metadata": {},
     "output_type": "execute_result"
    }
   ],
   "source": [
    "# Создаем DataFrame data20 для работы над этим заданием, путем копирования оригинального DataFrame Data\n",
    "# далее раздляем кинокомпании, помещяя их имена в строки, после чего разделяем строки чтобы у каждого названия компании было \n",
    "# одно название фильма. После этого снова фильтруем значения data20 по колонке production_companies, что бы оставить \n",
    "# только те строки в которых компанией указана Warner Bros \n",
    "# Затем делаем сводную таблицу по году выпуска и сумме сборов, и сортируем значения от максимума к минимумум\n",
    "# запрашиваем название индекса [0], который и будет ответом на поставленный вопрос\n",
    "\n",
    "data20 = data.copy() # создаем копию\n",
    "data20['production_companies'] = data20['production_companies'].str.split('|') # создаем строки\n",
    "data20 = data20.explode('production_companies') # разделяем строки\n",
    "data20 = data20[data20.production_companies.str.contains(\"Warner Bros\")] # фильтруем значение\n",
    "data20 = data20.groupby(['release_year'])['revenue'].sum().sort_values(ascending=False) #делаем сводную таблицу и считаем сумму\n",
    "data20.index[0] # запрашиваем ответ"
   ]
  },
  {
   "cell_type": "markdown",
   "metadata": {
    "colab_type": "text",
    "id": "8Im1S2HRVp_4"
   },
   "source": [
    "# 21. В каком месяце за все годы суммарно вышло больше всего фильмов?"
   ]
  },
  {
   "cell_type": "code",
   "execution_count": 44,
   "metadata": {
    "colab": {},
    "colab_type": "code",
    "id": "lev6TH7gVp_4"
   },
   "outputs": [],
   "source": [
    "answers['21'] = '4. Сентябрь' # +"
   ]
  },
  {
   "cell_type": "code",
   "execution_count": 120,
   "metadata": {},
   "outputs": [
    {
     "data": {
      "text/plain": [
       "9"
      ]
     },
     "execution_count": 120,
     "metadata": {},
     "output_type": "execute_result"
    }
   ],
   "source": [
    "# Создаем DataFrame data21 для работы над этим заданием, путем копирования оригинального DataFrame Data\n",
    "# Затем делаем сводную таблицу по месяцу выпуска и колличеству строк (относительно месяца), и сортируем значения от \n",
    "# максимума к минимумум. запрашиваем название индекса [0], который и будет ответом на поставленный вопрос\n",
    "\n",
    "data21 = data.copy() # создаем копию\n",
    "data21 = data21.groupby(['release_month'])['imdb_id'].count().sort_values(ascending=False) #делаем сводную таблицу и считаем колличество\n",
    "data21.index[0] # запрашиваем ответ"
   ]
  },
  {
   "cell_type": "markdown",
   "metadata": {
    "colab_type": "text",
    "id": "uAJsZ_NeVp_7"
   },
   "source": [
    "# 22. Сколько суммарно вышло фильмов летом? (за июнь, июль, август)"
   ]
  },
  {
   "cell_type": "code",
   "execution_count": 45,
   "metadata": {
    "colab": {},
    "colab_type": "code",
    "id": "Aa-hEREoVp_8"
   },
   "outputs": [],
   "source": [
    "answers['22'] = '2. 450' # +"
   ]
  },
  {
   "cell_type": "code",
   "execution_count": 121,
   "metadata": {},
   "outputs": [
    {
     "data": {
      "text/plain": [
       "450"
      ]
     },
     "execution_count": 121,
     "metadata": {},
     "output_type": "execute_result"
    }
   ],
   "source": [
    "# Создаем DataFrame data22 для работы над этим заданием, путем копирования оригинального DataFrame Data\n",
    "# фильтруем значение data22 по колонке release_month, что бы получить только те фильмы,\n",
    "# которые выходят летом\n",
    "# запрашиваем колличество строк в data22, который и будет ответом на поставленный вопрос\n",
    "\n",
    "data22 = data.copy() # создаем копию\n",
    "data22 = data22.loc[data22['release_month'].isin(['6','7','8'])] # фильтруем значения\n",
    "data22.imdb_id.count() # запрашиваем ответ"
   ]
  },
  {
   "cell_type": "markdown",
   "metadata": {
    "colab_type": "text",
    "id": "G94ppOY1VqAA"
   },
   "source": [
    "# 23. Для какого режиссера зима – самое продуктивное время года? "
   ]
  },
  {
   "cell_type": "code",
   "execution_count": 46,
   "metadata": {
    "colab": {},
    "colab_type": "code",
    "id": "RhNTsamuVqAB"
   },
   "outputs": [],
   "source": [
    "answers['23'] = '5. Peter Jackson' # +"
   ]
  },
  {
   "cell_type": "code",
   "execution_count": 122,
   "metadata": {},
   "outputs": [
    {
     "data": {
      "text/plain": [
       "'Peter Jackson'"
      ]
     },
     "execution_count": 122,
     "metadata": {},
     "output_type": "execute_result"
    }
   ],
   "source": [
    "# Создаем DataFrame data23 для работы над этим заданием, путем копирования оригинального DataFrame Data\n",
    "# фильтруем значение data23 по колонке release_month, что бы получить только те фильмы,\n",
    "# которые выходят зимой, Затем делаем сводную таблицу по режиссеру  и колличеству строк, и сортируем значения от \n",
    "# максимума к минимумум.\n",
    "# хапрашиваем название индекса [0], который и будет ответом на поставленный вопрос\n",
    "\n",
    "data23 = data.copy() # создаем копию\n",
    "data23 = data23.loc[data23['release_month'].isin(['1','2','12'])] # фильтруем значения\n",
    "data23 = data23.groupby(['director'])['imdb_id'].count().sort_values(ascending=False)  #делаем сводную таблицу и считаем колличество\n",
    "data23.index[0] # запрашиваем ответ"
   ]
  },
  {
   "cell_type": "markdown",
   "metadata": {
    "colab_type": "text",
    "id": "RBo0JVjVVqAF"
   },
   "source": [
    "# 24. Какая студия дает самые длинные названия своим фильмам по количеству символов?"
   ]
  },
  {
   "cell_type": "code",
   "execution_count": 47,
   "metadata": {
    "colab": {},
    "colab_type": "code",
    "id": "QRGS8L0iVqAG"
   },
   "outputs": [],
   "source": [
    "answers['24'] = '5. Four By Two Productions' # +"
   ]
  },
  {
   "cell_type": "code",
   "execution_count": 128,
   "metadata": {},
   "outputs": [
    {
     "data": {
      "text/plain": [
       "'Four By Two Productions'"
      ]
     },
     "execution_count": 128,
     "metadata": {},
     "output_type": "execute_result"
    }
   ],
   "source": [
    "# Создаем DataFrame data24 для работы над этим заданием, путем копирования оригинального DataFrame Data\n",
    "# создаем столбец title_length с длинной названия,\n",
    "# создаем список companies содержащий уникальное название компаний\n",
    "# создаем Series sum_gen для хранения рседних значений\n",
    "# далее с помощью цикла по всему датафрейму для каждой из компаний вычислим среднее \n",
    "# значение для всех названий фильмов созданных компанией\n",
    "# отсортируем значения и запросим ответ\n",
    "\n",
    "data24 = data.copy() # создаем копию\n",
    "data24['title_length'] = data24['original_title'].map(lambda x: len(x)) # создадим столбец с длиной названия\n",
    "companies = data24['production_companies'].str.split('|').explode().unique() # получим список уникальных названий компаний\n",
    "sum_gen = pd.Series(dtype='float64', index=companies) # создадим Series для хранения средних значений\n",
    "\n",
    "# цикл вычисляющий среднее значение для всех названий фильмов созданных компанией\n",
    "for comp in companies:\n",
    "    sum_gen[comp] = data24['title_length'][data24['production_companies'].map(lambda x: True if comp in x else False)].mean()\n",
    "\n",
    "sum_gen = sum_gen.sort_values(ascending=False) # отсортируем значения\n",
    "sum_gen.index[0] # запрашиваем ответ"
   ]
  },
  {
   "cell_type": "markdown",
   "metadata": {
    "colab_type": "text",
    "id": "9G0hbvR7VqAK"
   },
   "source": [
    "# 25. Описание фильмов какой студии в среднем самые длинные по количеству слов?"
   ]
  },
  {
   "cell_type": "code",
   "execution_count": 48,
   "metadata": {
    "colab": {},
    "colab_type": "code",
    "id": "Ge2GsLNxVqAK"
   },
   "outputs": [],
   "source": [
    "answers['25'] = '3. Midnight Picture Show' # +"
   ]
  },
  {
   "cell_type": "code",
   "execution_count": 130,
   "metadata": {},
   "outputs": [
    {
     "data": {
      "text/plain": [
       "'Midnight Picture Show'"
      ]
     },
     "execution_count": 130,
     "metadata": {},
     "output_type": "execute_result"
    }
   ],
   "source": [
    "# Создаем DataFrame data25 для работы над этим заданием, путем копирования оригинального DataFrame Data\n",
    "# создаем столбец overview_length с длинной описания с помощью lambda функции,\n",
    "# создаем список companies содержащий уникальное название компаний\n",
    "# создаем Series sum_gen для хранения рседних значений\n",
    "# далее с помощью цикла по всему датафрейму для каждой из компаний вычислим среднее \n",
    "# значение для всех описаний фильмов созданных компанией\n",
    "# отсортируем значения и запросим ответ\n",
    "\n",
    "data25 = data.copy()# создаем копию\n",
    "data25['overview_length'] = data25['overview'].map(lambda x: len(x)) # создадим столбец с длиной описания\n",
    "companies = data25['production_companies'].str.split('|').explode().unique() # получим список уникальных названий компаний\n",
    "sum_gen = pd.Series(dtype='float64', index=companies) # создадим Series для хранения средних значений\n",
    "\n",
    "# цикл вычисляющий среднее значение для всех описаний фильмов созданных компанией\n",
    "for comp in companies:\n",
    "    sum_gen[comp] = data25['overview_length'][data24['production_companies'].map(lambda x: True if comp in x else False)].mean()\n",
    "\n",
    "sum_gen = sum_gen.sort_values(ascending=False) # отсортируем значения\n",
    "sum_gen.index[0] # запрашиваем ответ"
   ]
  },
  {
   "cell_type": "markdown",
   "metadata": {
    "colab_type": "text",
    "id": "FJ1AFt90VqAP"
   },
   "source": [
    "# 26. Какие фильмы входят в 1 процент лучших по рейтингу? \n",
    "по vote_average"
   ]
  },
  {
   "cell_type": "code",
   "execution_count": 49,
   "metadata": {
    "colab": {},
    "colab_type": "code",
    "id": "8qmJVq4CVqAQ"
   },
   "outputs": [],
   "source": [
    "answers['26'] = '1. Inside Out, The Dark Knight, 12 Years a Slave ' # +"
   ]
  },
  {
   "cell_type": "code",
   "execution_count": 8,
   "metadata": {},
   "outputs": [
    {
     "data": {
      "text/plain": [
       "599                                   The Dark Knight\n",
       "9                                          Inside Out\n",
       "1191                                 12 Years a Slave\n",
       "1081    The Lord of the Rings: The Return of the King\n",
       "Name: original_title, dtype: object"
      ]
     },
     "execution_count": 8,
     "metadata": {},
     "output_type": "execute_result"
    }
   ],
   "source": [
    "# Создаем DataFrame data26 для работы над этим заданием, путем копирования оригинального DataFrame Data\n",
    "# создаем переменную  one_perc_best определяющую сколько фильмов входит в 1%,\n",
    "# сортируем значения по рейтингу и далее оставляем те,среди которых надо определить, входят ли они в 1% лучших по рейтингу\n",
    "# запрашиваем колонку с названиями фильмов, которые остались - это и будет ответ\n",
    "\n",
    "data26 = data.copy() # создаем копию\n",
    "one_perc_best = data26.imdb_id.count() // 100 # считаем 1%\n",
    "\n",
    "data26 = data26.sort_values(['vote_average'], ascending=False).head(one_perc_best) # сортируем значения\n",
    "\n",
    "data26 = data26.query('''original_title in [\"Inside Out\", \"The Dark Knight\", \"12 Years a Slave\", \"BloodRayne\" , \"The Adventures of Rocky & Bullwinkle\",\"Batman Begins\" , \"The Lord of the Rings: The Return of the King\" , \"Upside Down\", \"300\" , \"Lucky Number Slevin\" , \"Kill Bill: Vol. 1\", \"Upside Down\", \"Inside Out\", \"Iron Man\"]''') # ищем фильмы\n",
    "data26.original_title # запрашиваем ответ"
   ]
  },
  {
   "cell_type": "markdown",
   "metadata": {
    "colab_type": "text",
    "id": "MdXsUXbCVqAV"
   },
   "source": [
    "# 27. Какие актеры чаще всего снимаются в одном фильме вместе?\n"
   ]
  },
  {
   "cell_type": "markdown",
   "metadata": {
    "colab_type": "text",
    "id": "4ymnxEVoVqAW"
   },
   "source": [
    "ВАРИАНТ 2"
   ]
  },
  {
   "cell_type": "code",
   "execution_count": 50,
   "metadata": {},
   "outputs": [],
   "source": [
    "answers['27'] = '5. Daniel Radcliffe & Rupert Grint' # +"
   ]
  },
  {
   "cell_type": "code",
   "execution_count": 22,
   "metadata": {},
   "outputs": [
    {
     "data": {
      "text/plain": [
       "0     (Daniel Radcliffe, Emma Watson)\n",
       "1    (Daniel Radcliffe, Rupert Grint)\n",
       "2         (Emma Watson, Rupert Grint)\n",
       "dtype: object"
      ]
     },
     "execution_count": 22,
     "metadata": {},
     "output_type": "execute_result"
    }
   ],
   "source": [
    "# Создаем DataFrame data27 для работы над этим заданием, путем копирования оригинального DataFrame Data\n",
    "# создаем списки с актерами, разделяя их\n",
    "# с помощью лямбда функции, используем метод combinations функции iterations и ищем все повторяющиеся пары актеров\n",
    "# с помощью explode преобразуем каждый элемент списка в строку и с помощью cast.mode() выводим наиболее распространенные элементы\n",
    "\n",
    "data27 = data.copy() # создаем копию \n",
    "data27['cast'] = data27.cast.str.split('|') # разделяем актеров по именам, для дальнейшей работы\n",
    "\n",
    "data27.cast = data27.cast.apply(lambda x: list(it.combinations(sorted(x), 2))) # создаем пары\n",
    "\n",
    "data27.explode('cast').cast.mode() # выводим ответ"
   ]
  },
  {
   "cell_type": "markdown",
   "metadata": {
    "colab_type": "text",
    "id": "U0nONFnGVqAX"
   },
   "source": [
    "# Submission"
   ]
  },
  {
   "cell_type": "code",
   "execution_count": 51,
   "metadata": {
    "colab": {},
    "colab_type": "code",
    "id": "IfcaRO9-VqAX",
    "outputId": "0f132912-32bb-4196-c98c-abfbc4ad5a5f"
   },
   "outputs": [
    {
     "data": {
      "text/plain": [
       "{'1': '5. Pirates of the Caribbean: On Stranger Tides (tt1298650)',\n",
       " '2': '2. Gods and Generals (tt0279111)',\n",
       " '3': '3. Winnie the Pooh (tt1449283)',\n",
       " '4': '2. 110',\n",
       " '5': '1. 107',\n",
       " '6': '5. Avatar (tt0499549)',\n",
       " '7': '5. The Lone Ranger (tt1210819)',\n",
       " '8': '1. 1478',\n",
       " '9': '4. The Dark Knight (tt0468569)',\n",
       " '10': '5. The Lone Ranger (tt1210819)',\n",
       " '11': '3. Drama ',\n",
       " '12': '1. Drama',\n",
       " '13': '5. Peter Jackson',\n",
       " '14': '3. Robert Rodriguez',\n",
       " '15': '3. Chris Hemsworth',\n",
       " '16': '3. Matt Damon',\n",
       " '17': '2. Action',\n",
       " '18': '1. K-19: The Widowmaker (tt0267626)',\n",
       " '19': '5. 2015',\n",
       " '20': '1. 2014',\n",
       " '21': '4. Сентябрь',\n",
       " '22': '2. 450',\n",
       " '23': '5. Peter Jackson',\n",
       " '24': '5. Four By Two Productions',\n",
       " '25': '3. Midnight Picture Show',\n",
       " '26': '1. Inside Out, The Dark Knight, 12 Years a Slave ',\n",
       " '27': '5. Daniel Radcliffe & Rupert Grint'}"
      ]
     },
     "execution_count": 51,
     "metadata": {},
     "output_type": "execute_result"
    }
   ],
   "source": [
    "# в конце можно посмотреть свои ответы к каждому вопросу\n",
    "answers"
   ]
  },
  {
   "cell_type": "code",
   "execution_count": 52,
   "metadata": {
    "colab": {},
    "colab_type": "code",
    "id": "SiRmHPl8VqAd"
   },
   "outputs": [
    {
     "data": {
      "text/plain": [
       "27"
      ]
     },
     "execution_count": 52,
     "metadata": {},
     "output_type": "execute_result"
    }
   ],
   "source": [
    "# и убедиться что ни чего не пропустил)\n",
    "len(answers)"
   ]
  },
  {
   "cell_type": "code",
   "execution_count": 0,
   "metadata": {
    "colab": {},
    "colab_type": "code",
    "id": "uCfuTkRbVqAg"
   },
   "outputs": [],
   "source": []
  },
  {
   "cell_type": "code",
   "execution_count": 0,
   "metadata": {
    "colab": {},
    "colab_type": "code",
    "id": "Vwx3NrkSVqAl"
   },
   "outputs": [],
   "source": []
  }
 ],
 "metadata": {
  "colab": {
   "name": "Copy of [SF-DST] Movies IMBD v4.1 TEMPLATE.ipynb",
   "provenance": []
  },
  "kernelspec": {
   "display_name": "Python 3",
   "language": "python",
   "name": "python3"
  },
  "language_info": {
   "codemirror_mode": {
    "name": "ipython",
    "version": 3
   },
   "file_extension": ".py",
   "mimetype": "text/x-python",
   "name": "python",
   "nbconvert_exporter": "python",
   "pygments_lexer": "ipython3",
   "version": "3.8.5"
  }
 },
 "nbformat": 4,
 "nbformat_minor": 1
}
